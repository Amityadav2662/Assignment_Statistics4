{
 "cells": [
  {
   "cell_type": "code",
   "execution_count": null,
   "id": "2162ff13-caf6-4844-858f-cb6fb9daf2da",
   "metadata": {},
   "outputs": [],
   "source": [
    "# Q1: What are the Probability Mass Function (PMF) and Probability Density Function (PDF)? Explain with\n",
    "# an example.\n",
    "Ans.\n",
    "1. Probability Mass Function (PMF):\n",
    "The Probability Mass Function (PMF) is used for discrete random variables. It assigns a probability to each \n",
    "possible value that the random variable can take. The PMF gives the probability of obtaining a specific value\n",
    "or outcome.\n",
    "Example:\n",
    "Consider rolling a fair six-sided die. The random variable X represents the outcome of the roll. The PMF of X\n",
    "would provide the probability associated with each value from 1 to 6. In this case, the PMF would be:\n",
    "PMF(X=1) = 1/6\n",
    "PMF(X=2) = 1/6\n",
    "PMF(X=3) = 1/6\n",
    "PMF(X=4) = 1/6\n",
    "PMF(X=5) = 1/6\n",
    "PMF(X=6) = 1/6\n",
    "\n",
    "2. Probability Density Function (PDF):\n",
    "The Probability Density Function (PDF) is used for continuous random variables. It provides the relative likelihood\n",
    "of obtaining a value within a specific range, rather than assigning probabilities to individual values. The area\n",
    "under the PDF curve within a range corresponds to the probability of the random variable falling within that range.\n",
    "Example:\n",
    "The height of a randomly selected person is a continuous random variable. It can take on any value between the minimum\n",
    "and maximum height of a human."
   ]
  },
  {
   "cell_type": "code",
   "execution_count": null,
   "id": "67b58da6-af7d-4545-9bc1-9939803e346a",
   "metadata": {},
   "outputs": [],
   "source": [
    "# Q2: What is Cumulative Density Function (CDF)? Explain with an example. Why CDF is used?\n",
    "Ans.\n",
    "The cumulative density function (CDF) is a function that gives the probability that a random variable will be less than\n",
    "or equal to a given value. For a discrete random variable, the CDF is a step function. For a continuous random variable,\n",
    "the CDF is a smooth curve.\n",
    "\n",
    "The CDF is used for a variety of purposes, Calculating the probability that a random variable will take on a specific \n",
    "value or within a given interval. Determining the quantiles of a random variable."
   ]
  },
  {
   "cell_type": "code",
   "execution_count": 12,
   "id": "415230d7-2a67-4965-8c63-30efa5b8479e",
   "metadata": {},
   "outputs": [
    {
     "name": "stdout",
     "output_type": "stream",
     "text": [
      "0.022750131948179195\n"
     ]
    }
   ],
   "source": [
    "# Example\n",
    "from scipy.stats import norm\n",
    "import matplotlib.pyplot as plt\n",
    "\n",
    "def cdf_example(x,mean,stand_dev):\n",
    "    cdf = norm.cdf(x, loc = mean, scale= stand_dev)\n",
    "    return cdf\n",
    "\n",
    "x = 1\n",
    "mean = 2\n",
    "stand_dev = 0.5\n",
    "cdf = cdf_example(x,mean,stand_dev)\n",
    "print(cdf)"
   ]
  },
  {
   "cell_type": "code",
   "execution_count": null,
   "id": "41c81091-1a3d-4eea-aeb7-1186c813f30a",
   "metadata": {},
   "outputs": [],
   "source": [
    "# Q3: What are some examples of situations where the normal distribution might be used as a model?\n",
    "# Explain how the parameters of the normal distribution relate to the shape of the distribution.\n",
    "Ans.\n",
    "There are some examples of situations where the normal distribution.\n",
    "a. The heights of people\n",
    "b. The weights of people\n",
    "c. The score of people\n",
    "d. The IQ of people\n",
    "e. The amount of money people earn\n",
    "\n",
    "The parameters of the normal distribution are the mean and the standard deviation. The mean is the \n",
    "average of the distribution, and the standard deviation is a measure of how spread out the distribution\n",
    "is. The shape of the normal distribution is bell-shaped, with the mean in the middle and the standard\n",
    "deviation determining how wide the bell is."
   ]
  },
  {
   "cell_type": "code",
   "execution_count": null,
   "id": "33ddfbe6-7290-4fb1-8319-c50c7f540471",
   "metadata": {},
   "outputs": [],
   "source": [
    "# Q4: Explain the importance of Normal Distribution. Give a few real-life examples of Normal\n",
    "# Distribution.\n",
    "Ans.\n",
    "1. It has one of the important properties called central theorem. Central theorem means relationship \n",
    "between shape of population distribution and shape of sampling distribution of mean. This means that \n",
    "sampling distribution of mean approaches normal as sample size increase.\n",
    "2. In case the sample size is large the normal distribution serves as good approximation.\n",
    "3. Due to its mathematical properties it is more popular and easy to calculate.\n",
    "4. It is used in statistical quality control in setting up of control limits.\n",
    "5. The whole theory of sample tests t, f and chi-square test is based on the normal distribution.\n",
    "\n",
    "The few real-life example of normal Distribution\n",
    "a. Height: The height of people is normally distributed, with the majority of people falling within a\n",
    "few standard deviations of the average height.\n",
    "b. IQ: IQ scores are also normally distributed, with the majority of people falling within the average\n",
    "range.\n",
    "c. Blood pressure: Blood pressure is normally distributed, with most people's blood pressure falling within\n",
    "a healthy range.\n",
    "d. Weight: Weight is normally distributed, but there is a greater variation in weight than in height or IQ."
   ]
  },
  {
   "cell_type": "code",
   "execution_count": null,
   "id": "ce3ab020-b4fa-4154-9018-a83d20b93437",
   "metadata": {},
   "outputs": [],
   "source": [
    "# Q5: What is Bernaulli Distribution? Give an Example. What is the difference between Bernoulli\n",
    "# Distribution and Binomial Distribution?\n",
    "Ans. \n",
    "The Bernoulli Distribution is a discrete probability distribution representing a single random experiment\n",
    "with two possible outcomes: success and failure.\n",
    "\n",
    "Example of Bernaulli distribution\n",
    "1. Tossing a coin : when we toss a coin there are two possibilities one is head and second is tail.\n",
    "2. Whether the person will pass or fail : In the life there are two possibilites one is pass and second \n",
    "is fail.\n",
    "\n",
    "The difference between bernoulli distribution and binomial distribution.\n",
    "1. The bernoulli distribution is apply for single trial and the binomial distribution is apply for sequence of\n",
    "n trials.\n",
    "2. In bernoulli the single parametere (p) that represents the probability of success in a single trail, On the \n",
    "other hand, Binomial has two parameters, the number of trials (n) and the probability of success (p) which represents\n",
    "the probability of success in each individual trials."
   ]
  },
  {
   "cell_type": "code",
   "execution_count": 5,
   "id": "10d32ddf-cf3c-47ae-82bf-951af5f88f19",
   "metadata": {},
   "outputs": [
    {
     "name": "stdout",
     "output_type": "stream",
     "text": [
      "0.15865525393145707\n"
     ]
    }
   ],
   "source": [
    "# Q6. Consider a dataset with a mean of 50 and a standard deviation of 10. If we assume that the dataset\n",
    "# is normally distributed, what is the probability that a randomly selected observation will be greater\n",
    "# than 60? Use the appropriate formula and show your calculations.\n",
    "from scipy.stats import norm\n",
    "\n",
    "def pro_data(x,mean,stand_dev):\n",
    "    z_score = (x - mean)/stand_dev\n",
    "    prob = 1 - norm.cdf(z_score)\n",
    "    return prob\n",
    "\n",
    "x = 60\n",
    "mean = 50\n",
    "stand_dev = 10\n",
    "probability = pro_data(x,mean,stand_dev)\n",
    "print(probability)"
   ]
  },
  {
   "cell_type": "code",
   "execution_count": null,
   "id": "705c5b81-b98b-44ff-859e-fbe2bead9f3d",
   "metadata": {},
   "outputs": [],
   "source": [
    "# Q7: Explain uniform Distribution with an example.\n",
    "Ans.\n",
    "Uniform distribution is using continuous uniform distribution. It is also known as rectangular distribution.\n",
    "There are two points a and b one is maximum and another one is minimum. whatever the outcome comes that is in \n",
    "between a and b.\n",
    "\n",
    "Example of uniform distribution\n",
    "The number of candies sold daily at a shop is uniformly distributed with a maximum of 40 and a minimum of 10."
   ]
  },
  {
   "cell_type": "code",
   "execution_count": null,
   "id": "4ff2ee04-167e-4a86-b3bd-d9cd1a995a6b",
   "metadata": {},
   "outputs": [],
   "source": [
    "# Q8: What is the z score? State the importance of the z score.\n",
    "Ans.\n",
    "The z-score is a statistical measure that describes how far a specific point is from the mean in terms of \n",
    "standard deviations. A z-score of 0 indicates that the point is equal to the mean, while a z-score of 1 \n",
    "indicates that the point is one standard deviation above the mean. Z-scores can be positive or negative, \n",
    "with positive values indicating that the point is above the mean and negative values indicating that the\n",
    "point is below the mean.\n",
    "\n",
    "The importance of z-scores:\n",
    "1. Z-scores allow us to compare data from different populations that have different means and standard deviations.\n",
    "2. Z-scores can be used to identify outliers, which are data points that are significantly different from the rest\n",
    "of the data.\n",
    "3. Z-scores can be used to calculate probabilities, such as the probability of a randomly selected point being \n",
    "greater than a certain value."
   ]
  },
  {
   "cell_type": "code",
   "execution_count": null,
   "id": "300c1171-303e-4099-af4a-4b02197d0cbe",
   "metadata": {},
   "outputs": [],
   "source": [
    "# Q9: What is Central Limit Theorem? State the significance of the Central Limit Theorem.\n",
    "Ans.\n",
    "The central limit theorem (CLT) is a statistical theorem that states that, given a sufficiently large sample size,\n",
    "the distribution of the sample means will be approximately normally distributed, regardless of the shape of the \n",
    "population distribution. In other words, the CLT says that if you take a large enough sample from any population,\n",
    "the distribution of the sample means will be bell-shaped.\n",
    "\n",
    "The significance of the Central Limit Theorem:\n",
    "1. It allows us to make inferences about the population mean based on the sample mean.\n",
    "2. It can be used to standardize data.\n",
    "3. It can be used to calculate probabilities.\n",
    "4. It can be used to test statistical hypotheses.\n",
    "5. It can be used to develop confidence intervals.\n",
    "6. It can be used to construct hypothesis tests."
   ]
  },
  {
   "cell_type": "code",
   "execution_count": null,
   "id": "288aac3e-c11e-4a48-ae10-d6b26a5289ff",
   "metadata": {},
   "outputs": [],
   "source": [
    "# Q10: State the assumptions of the Central Limit Theorem.\n",
    "Ans.\n",
    "The assumptions of the Central Limit Theorem:\n",
    "1. The population mean and variance must be finite, so that the distribution of the sample means has a finite \n",
    "mean and variance.\n",
    "2. The samples must be independent and identically distributed, so that the values in each sample are \n",
    "independent of the values in other samples.\n",
    "3. The sample size must be sufficiently large, so that the distribution of the sample means is approximately normal."
   ]
  }
 ],
 "metadata": {
  "kernelspec": {
   "display_name": "Python 3 (ipykernel)",
   "language": "python",
   "name": "python3"
  },
  "language_info": {
   "codemirror_mode": {
    "name": "ipython",
    "version": 3
   },
   "file_extension": ".py",
   "mimetype": "text/x-python",
   "name": "python",
   "nbconvert_exporter": "python",
   "pygments_lexer": "ipython3",
   "version": "3.10.8"
  }
 },
 "nbformat": 4,
 "nbformat_minor": 5
}
